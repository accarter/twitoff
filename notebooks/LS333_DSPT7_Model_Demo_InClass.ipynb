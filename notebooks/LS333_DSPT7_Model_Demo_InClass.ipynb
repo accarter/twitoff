{
 "cells": [
  {
   "cell_type": "markdown",
   "metadata": {},
   "source": [
    "### DSPT6 - Adding Data Science to a Web Application\n",
    "\n",
    "The purpose of this notebook is to demonstrate:\n",
    "- Simple online analysis of data from a user of the Twitoff app or an API\n",
    "- Train a more complicated offline model, and serialize the results for online use"
   ]
  },
  {
   "cell_type": "code",
   "execution_count": 1,
   "metadata": {},
   "outputs": [],
   "source": [
    "import os\n",
    "import sqlite3\n",
    "import pickle\n",
    "import pandas as pd"
   ]
  },
  {
   "cell_type": "code",
   "execution_count": 2,
   "metadata": {},
   "outputs": [],
   "source": [
    "# Connect to sqlite database\n",
    "# conn = sqlite3.connect('C:\\\\Users\\\\Adam Carter\\\\Downloads\\\\lecture\\\\twitoff.sqlite3')\n",
    "\n",
    "basedir = os.path.abspath(os.path.dirname(\"../twitoff/\"))\n",
    "path = os.path.join(basedir, 'twitoff.db')\n",
    "# print(path)\n",
    "# path = 'sqlite:///C:\\\\Projects\\\\twitoff\\\\twitoff\\\\twitoff.db'\n",
    "conn = sqlite3.connect(path)"
   ]
  },
  {
   "cell_type": "code",
   "execution_count": 3,
   "metadata": {
    "colab": {},
    "colab_type": "code",
    "id": "vS_A9hjG1HGD"
   },
   "outputs": [],
   "source": [
    "def get_data(query, conn):\n",
    "    '''Function to get data from SQLite DB'''\n",
    "    \n",
    "    cursor = conn.cursor()\n",
    "    result = cursor.execute(query).fetchall()\n",
    "\n",
    "    # Get columns from cursor object\n",
    "    columns = list(map(lambda x: x[0], cursor.description))\n",
    "\n",
    "    # Assign to DataFrame\n",
    "    df = pd.DataFrame(data=result, columns=columns)\n",
    "    return df"
   ]
  },
  {
   "cell_type": "code",
   "execution_count": 4,
   "metadata": {
    "colab": {},
    "colab_type": "code",
    "id": "pVapHGy7gEFx"
   },
   "outputs": [
    {
     "name": "stdout",
     "output_type": "stream",
     "text": [
      "(597, 4)\n"
     ]
    },
    {
     "data": {
      "text/html": [
       "<div>\n",
       "<style scoped>\n",
       "    .dataframe tbody tr th:only-of-type {\n",
       "        vertical-align: middle;\n",
       "    }\n",
       "\n",
       "    .dataframe tbody tr th {\n",
       "        vertical-align: top;\n",
       "    }\n",
       "\n",
       "    .dataframe thead th {\n",
       "        text-align: right;\n",
       "    }\n",
       "</style>\n",
       "<table border=\"1\" class=\"dataframe\">\n",
       "  <thead>\n",
       "    <tr style=\"text-align: right;\">\n",
       "      <th></th>\n",
       "      <th>id</th>\n",
       "      <th>text</th>\n",
       "      <th>embedding</th>\n",
       "      <th>username</th>\n",
       "      <th>embedding_decoded</th>\n",
       "    </tr>\n",
       "  </thead>\n",
       "  <tbody>\n",
       "    <tr>\n",
       "      <th>0</th>\n",
       "      <td>669111829205938177</td>\n",
       "      <td>The rarest of beasts - a used rocket. Controll...</td>\n",
       "      <td>b'\\x80\\x05\\x95$\\x05\\x00\\x00\\x00\\x00\\x00\\x00\\x8...</td>\n",
       "      <td>jeffbezos</td>\n",
       "      <td>[-0.0891486, 0.12521237, -0.1862246, -0.056690...</td>\n",
       "    </tr>\n",
       "    <tr>\n",
       "      <th>1</th>\n",
       "      <td>671461815210139648</td>\n",
       "      <td>Breakthrough Energy Coalition. When in a box, ...</td>\n",
       "      <td>b'\\x80\\x05\\x95$\\x05\\x00\\x00\\x00\\x00\\x00\\x00\\x8...</td>\n",
       "      <td>jeffbezos</td>\n",
       "      <td>[-0.048133034, 0.19431339, -0.06864032, -0.053...</td>\n",
       "    </tr>\n",
       "  </tbody>\n",
       "</table>\n",
       "</div>"
      ],
      "text/plain": [
       "                   id                                               text  \\\n",
       "0  669111829205938177  The rarest of beasts - a used rocket. Controll...   \n",
       "1  671461815210139648  Breakthrough Energy Coalition. When in a box, ...   \n",
       "\n",
       "                                           embedding   username  \\\n",
       "0  b'\\x80\\x05\\x95$\\x05\\x00\\x00\\x00\\x00\\x00\\x00\\x8...  jeffbezos   \n",
       "1  b'\\x80\\x05\\x95$\\x05\\x00\\x00\\x00\\x00\\x00\\x00\\x8...  jeffbezos   \n",
       "\n",
       "                                   embedding_decoded  \n",
       "0  [-0.0891486, 0.12521237, -0.1862246, -0.056690...  \n",
       "1  [-0.048133034, 0.19431339, -0.06864032, -0.053...  "
      ]
     },
     "execution_count": 4,
     "metadata": {},
     "output_type": "execute_result"
    }
   ],
   "source": [
    "import pickle\n",
    "\n",
    "username_query = \"\"\"\n",
    "SELECT \n",
    "\ttweet.id,\n",
    "\ttweet.text, \n",
    "\ttweet.embedding,\n",
    "\tuser.username\n",
    "FROM tweet\n",
    "JOIN user \n",
    "ON tweet.user_id = user.id;\n",
    "\"\"\"\n",
    "\n",
    "df = get_data(username_query, conn)\n",
    "print(df.shape)\n",
    "df['embedding_decoded'] = df.embedding.apply(lambda x: pickle.loads(x))\n",
    "df.head(2)"
   ]
  },
  {
   "cell_type": "code",
   "execution_count": null,
   "metadata": {},
   "outputs": [],
   "source": []
  },
  {
   "cell_type": "code",
   "execution_count": 5,
   "metadata": {},
   "outputs": [
    {
     "data": {
      "text/plain": [
       "array([-8.91486034e-02,  1.25212371e-01, -1.86224595e-01, -5.66906631e-02,\n",
       "        3.11362520e-02,  2.48414446e-02, -6.93976283e-02, -1.03705101e-01,\n",
       "       -6.72429726e-02,  1.80039442e+00, -1.39416397e-01,  6.52636364e-02,\n",
       "        8.03948492e-02, -4.97721881e-02, -2.09537059e-01, -1.16369784e-01,\n",
       "       -9.67616439e-02,  1.19802141e+00, -1.97275430e-01, -5.33693582e-02,\n",
       "       -7.59659186e-02,  3.53720374e-02, -5.90171628e-02, -9.17383507e-02,\n",
       "       -4.78082262e-02,  6.86318949e-02,  2.01813672e-02, -1.33606613e-01,\n",
       "        1.23979859e-01, -1.49053365e-01, -7.85358250e-03,  4.75163907e-02,\n",
       "       -4.19878736e-02,  1.06230073e-01,  7.15249106e-02, -4.56451625e-02,\n",
       "        5.01714386e-02,  1.12095892e-01, -4.28963639e-02, -3.37880738e-02,\n",
       "       -1.06627144e-01,  5.82183376e-02,  1.03460504e-02, -1.11458644e-01,\n",
       "        7.96517357e-02,  6.22762218e-02, -1.81307763e-01,  4.43422161e-02,\n",
       "        1.70267392e-02,  8.70617107e-02, -5.27961962e-02,  6.40502647e-02,\n",
       "        8.46343767e-03,  6.06961511e-02, -2.45141014e-02, -1.17371483e-02,\n",
       "        7.09132254e-02, -7.70242065e-02,  2.59779785e-02, -4.61730696e-02,\n",
       "        5.95771067e-04,  5.36788553e-02, -8.52130074e-03,  2.63986260e-01,\n",
       "        1.37282193e-01, -5.52397743e-02, -4.51769605e-02,  3.71826403e-02,\n",
       "        6.25940040e-02,  1.50194928e-01,  2.35095178e-03,  1.33010391e-02,\n",
       "        1.40239447e-01, -3.66581157e-02,  5.80763184e-02, -5.50644808e-02,\n",
       "        5.05430028e-02, -7.28152469e-02, -6.55009225e-02,  1.94204107e-01,\n",
       "       -9.28689390e-02,  1.09777432e-02, -1.39978519e-02,  1.84368081e-02,\n",
       "        2.40780469e-02, -1.63571164e-01,  4.56283763e-02, -2.17638891e-02,\n",
       "        2.08866671e-01,  5.97422272e-02,  3.70103284e-03,  5.32010645e-02,\n",
       "        3.81680555e-03,  3.49837057e-02,  1.12084895e-01, -6.51534870e-02,\n",
       "       -8.03074390e-02, -7.23358840e-02, -2.00430825e-02, -2.05498617e-02,\n",
       "       -4.01724800e-02,  6.02174774e-02, -8.33702907e-02, -3.39360721e-02,\n",
       "        9.79328230e-02, -5.41099429e-01, -9.49144363e-03,  1.16122663e-02,\n",
       "        9.25158784e-02,  7.78530091e-02, -5.96249439e-02, -2.01186106e-01,\n",
       "        1.58804297e-01, -2.30811596e-01,  1.37497364e-02,  3.21900286e-02,\n",
       "        4.37811427e-02,  2.66847052e-02, -1.24279454e-01, -7.49897771e-03,\n",
       "       -3.08466274e-02, -1.37767568e-02,  3.41241099e-02, -9.87926871e-03,\n",
       "       -8.65927786e-02, -1.98754836e-02,  1.91176850e-02, -1.20438814e-01,\n",
       "        5.11631630e-02, -2.49196868e-03, -1.64658036e-02, -5.69294058e-02,\n",
       "       -1.08603254e-01,  6.88120723e-02,  6.67682067e-02,  3.16708051e-02,\n",
       "       -8.51026643e-03, -6.44246042e-02,  4.62759249e-02, -5.21795750e-02,\n",
       "       -1.19185555e+00,  1.77507579e-01,  1.65432334e-01, -2.01683268e-02,\n",
       "        2.18737088e-02, -6.78892657e-02, -5.83613403e-02, -4.78444584e-02,\n",
       "        8.39051232e-02, -7.05284486e-03, -4.25481796e-02, -6.02055229e-02,\n",
       "        5.15524894e-02,  1.31568117e-02, -7.71484897e-02,  2.13913564e-02,\n",
       "       -7.54052997e-02,  1.84236988e-02,  1.55808153e-02, -7.82994777e-02,\n",
       "        3.82670313e-02, -1.23708053e-02, -1.60762994e-03,  3.06133064e-03,\n",
       "       -5.84415197e-02, -2.03916267e-01,  6.18039221e-02, -2.78413258e-02,\n",
       "        1.79256365e-01,  4.38249446e-02, -2.12811818e-03, -1.37052573e-02,\n",
       "        4.78383526e-02, -1.06606565e-01, -5.13082929e-02,  4.22062613e-02,\n",
       "        2.33591795e-02, -4.27664816e-02,  1.59012564e-02, -2.94955522e-02,\n",
       "        6.26724660e-02, -7.33338222e-02, -1.14779226e-01, -1.49477094e-01,\n",
       "       -2.26800833e-02, -7.16209412e-02,  1.10918619e-02, -4.56755087e-02,\n",
       "        6.19300036e-03,  2.65133344e-02, -4.77775512e-03,  6.20764717e-02,\n",
       "        6.77958950e-02,  2.03937758e-02, -2.13863626e-02,  5.61765209e-02,\n",
       "       -4.15489413e-02, -5.09389937e-02,  3.18546295e-02,  2.04879984e-01,\n",
       "       -2.89066173e-02, -6.38841912e-02,  1.68942846e-02, -3.40607464e-02,\n",
       "        1.58969179e-01,  5.53995594e-02, -3.52909714e-02, -3.83911915e-02,\n",
       "        7.18107494e-03,  5.71196973e-02,  3.09984176e-03, -1.46337956e-01,\n",
       "       -6.00192929e-03, -1.26775190e-01,  5.10032922e-02,  1.08940832e-01,\n",
       "       -4.32493761e-02,  1.35144264e-01, -1.11021712e-01,  4.30102907e-02,\n",
       "        1.47909015e-01,  1.02115525e-02, -1.23854451e-01,  7.58296624e-02,\n",
       "        4.32475135e-02, -1.63982939e-02, -4.78822291e-02,  2.02818811e-01,\n",
       "        3.30507644e-02,  6.61296025e-02,  1.68996789e-02,  6.16774559e-02,\n",
       "        1.23957902e-01,  8.75843093e-02,  3.02404054e-02, -3.40605229e-02,\n",
       "       -2.79612318e-02, -7.33158663e-02, -4.29351144e-02,  8.90947431e-02,\n",
       "        1.27196327e-01,  3.58094461e-02,  6.86566439e-03,  5.03575169e-02,\n",
       "        1.17285386e-01, -1.23349331e-01, -2.02749386e-01, -5.29090017e-02,\n",
       "       -1.25223711e-01,  2.26599634e-01,  5.80342151e-02, -3.60232256e-02,\n",
       "       -1.08331032e-01, -7.55655318e-02,  6.09738491e-02,  2.07237974e-01,\n",
       "        1.07139260e-01, -5.98156415e-02, -8.48079696e-02,  3.22612375e-02,\n",
       "        7.53578097e-02,  5.65445088e-02,  6.28672168e-02, -3.86230014e-02,\n",
       "        6.84421211e-02, -9.66373608e-02,  3.11341491e-02,  9.01061222e-02,\n",
       "        3.54048997e-01,  1.45750463e-01,  1.77810583e-02, -6.27601743e-02,\n",
       "        1.38925174e-02, -1.99631959e-01, -1.20747373e-01,  4.68817391e-02,\n",
       "        4.60102968e-02,  9.17877629e-03,  5.31220669e-03,  1.16945252e-01,\n",
       "        2.70892739e-01, -5.06741516e-02,  3.80580425e-02, -9.10878107e-02,\n",
       "       -2.36442965e-02, -1.07720442e-01,  6.35352954e-02, -1.15324207e-01,\n",
       "        1.93655580e-01, -1.63652927e-01, -2.31205970e-01,  4.06108610e-02,\n",
       "       -5.59743419e-02, -6.50331676e-02, -1.39440335e-02,  3.16448584e-02,\n",
       "       -3.46242227e-02, -7.63128102e-02,  4.05368023e-02,  8.90475884e-02],\n",
       "      dtype=float32)"
      ]
     },
     "execution_count": 5,
     "metadata": {},
     "output_type": "execute_result"
    }
   ],
   "source": [
    "pickle.loads(df.embedding.iloc[0])"
   ]
  },
  {
   "cell_type": "code",
   "execution_count": 6,
   "metadata": {},
   "outputs": [
    {
     "data": {
      "text/plain": [
       "jeffbezos     226\n",
       "TechCrunch    193\n",
       "jackblack     161\n",
       "elonmusk       17\n",
       "Name: username, dtype: int64"
      ]
     },
     "execution_count": 6,
     "metadata": {},
     "output_type": "execute_result"
    }
   ],
   "source": [
    "df.username.value_counts()"
   ]
  },
  {
   "cell_type": "code",
   "execution_count": 7,
   "metadata": {},
   "outputs": [
    {
     "name": "stdout",
     "output_type": "stream",
     "text": [
      "(178, 300) (178,)\n"
     ]
    }
   ],
   "source": [
    "import numpy as np\n",
    "\n",
    "user1_embeddings = df.embedding_decoded[df.username == 'elonmusk']\n",
    "user2_embeddings = df.embedding_decoded[df.username == 'jackblack']\n",
    "embeddings = pd.concat([user1_embeddings, user2_embeddings])\n",
    "\n",
    "embeddings_df = pd.DataFrame(embeddings.tolist(), \n",
    "                             columns=[f'dom{i}' for i in range(300)])\n",
    "\n",
    "labels = np.concatenate([np.ones(len(user1_embeddings)),\n",
    "                         np.zeros(len(user2_embeddings))])\n",
    "\n",
    "print(embeddings_df.shape, labels.shape)"
   ]
  },
  {
   "cell_type": "code",
   "execution_count": 8,
   "metadata": {},
   "outputs": [
    {
     "name": "stdout",
     "output_type": "stream",
     "text": [
      "(133, 300) (45, 300)\n"
     ]
    }
   ],
   "source": [
    "from sklearn.model_selection import train_test_split\n",
    "\n",
    "X_train, X_test, y_train, y_test = train_test_split(\n",
    "    embeddings_df,\n",
    "    labels,\n",
    "    test_size=0.25,\n",
    "    random_state=42)\n",
    "\n",
    "print(X_train.shape, X_test.shape)"
   ]
  },
  {
   "cell_type": "code",
   "execution_count": 9,
   "metadata": {},
   "outputs": [
    {
     "data": {
      "text/plain": [
       "LogisticRegression(max_iter=1000)"
      ]
     },
     "execution_count": 9,
     "metadata": {},
     "output_type": "execute_result"
    }
   ],
   "source": [
    "from sklearn.linear_model import LogisticRegression\n",
    "\n",
    "log_reg = LogisticRegression(max_iter=1000)\n",
    "log_reg.fit(X_train, y_train)"
   ]
  },
  {
   "cell_type": "code",
   "execution_count": 10,
   "metadata": {},
   "outputs": [
    {
     "name": "stdout",
     "output_type": "stream",
     "text": [
      "              precision    recall  f1-score   support\n",
      "\n",
      "         0.0       1.00      1.00      1.00        41\n",
      "         1.0       1.00      1.00      1.00         4\n",
      "\n",
      "    accuracy                           1.00        45\n",
      "   macro avg       1.00      1.00      1.00        45\n",
      "weighted avg       1.00      1.00      1.00        45\n",
      "\n"
     ]
    }
   ],
   "source": [
    "from sklearn.metrics import classification_report, plot_confusion_matrix\n",
    "\n",
    "y_pred = log_reg.predict(X_test)\n",
    "print(classification_report(y_test, y_pred))"
   ]
  },
  {
   "cell_type": "code",
   "execution_count": 11,
   "metadata": {},
   "outputs": [
    {
     "data": {
      "image/png": "[encoded data removed]",
      "text/plain": [
       "<Figure size 576x576 with 2 Axes>"
      ]
     },
     "metadata": {
      "needs_background": "light"
     },
     "output_type": "display_data"
    }
   ],
   "source": [
    "import matplotlib.pyplot as plt\n",
    "\n",
    "fig, ax = plt.subplots(figsize=(8,8))\n",
    "plot_confusion_matrix(log_reg, X_test, y_test, \n",
    "                      normalize='true', cmap='Blues', \n",
    "                      display_labels=['Barack Obama', 'Jimmy Fallon'], ax=ax)\n",
    "plt.title(f'LogReg Confusion Matrix (N={X_test.shape[0]})');"
   ]
  },
  {
   "cell_type": "code",
   "execution_count": 12,
   "metadata": {},
   "outputs": [],
   "source": [
    "import spacy\n",
    "\n",
    "nlp = spacy.load(\"en_core_web_md\", disable=[\"tagger\", \"parser\"])\n",
    "\n",
    "def vectorize_tweet(nlp, tweet_text ):\n",
    "    return list(nlp(tweet_text).vector)"
   ]
  },
  {
   "cell_type": "code",
   "execution_count": 13,
   "metadata": {},
   "outputs": [
    {
     "data": {
      "text/plain": [
       "[-0.12741038, 0.28394625, 0.209937, -0.03447726, -0.08926687]"
      ]
     },
     "execution_count": 13,
     "metadata": {},
     "output_type": "execute_result"
    }
   ],
   "source": [
    "new_embedding = vectorize_tweet(nlp, \"The innovation displayed during this pandemic is unprecedented\")\n",
    "new_embedding[0:5]"
   ]
  },
  {
   "cell_type": "code",
   "execution_count": 14,
   "metadata": {},
   "outputs": [
    {
     "data": {
      "text/plain": [
       "array([0.])"
      ]
     },
     "execution_count": 14,
     "metadata": {},
     "output_type": "execute_result"
    }
   ],
   "source": [
    "log_reg.predict([new_embedding])"
   ]
  },
  {
   "cell_type": "code",
   "execution_count": 15,
   "metadata": {},
   "outputs": [],
   "source": [
    "fname = \"../models/logreg.pkl\"\n",
    "pickle.dump(log_reg, open(fname, \"wb\"))"
   ]
  },
  {
   "cell_type": "code",
   "execution_count": 16,
   "metadata": {},
   "outputs": [],
   "source": [
    "unpickled_lr = pickle.load(open(fname, \"rb\"))"
   ]
  },
  {
   "cell_type": "code",
   "execution_count": 17,
   "metadata": {},
   "outputs": [
    {
     "data": {
      "text/plain": [
       "array([0.])"
      ]
     },
     "execution_count": 17,
     "metadata": {},
     "output_type": "execute_result"
    }
   ],
   "source": [
    "log_reg.predict([new_embedding])"
   ]
  },
  {
   "cell_type": "code",
   "execution_count": null,
   "metadata": {},
   "outputs": [],
   "source": []
  }
 ],
 "metadata": {
  "colab": {
   "collapsed_sections": [],
   "name": "DSPT6_APIs_Demo.ipynb",
   "provenance": []
  },
  "kernelspec": {
   "display_name": "Python 3",
   "language": "python",
   "name": "python3"
  },
  "language_info": {
   "codemirror_mode": {
    "name": "ipython",
    "version": 3
   },
   "file_extension": ".py",
   "mimetype": "text/x-python",
   "name": "python",
   "nbconvert_exporter": "python",
   "pygments_lexer": "ipython3",
   "version": "3.8.6"
  }
 },
 "nbformat": 4,
 "nbformat_minor": 4
}
